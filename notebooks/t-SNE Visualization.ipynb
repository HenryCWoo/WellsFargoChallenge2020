{
 "cells": [
  {
   "cell_type": "markdown",
   "metadata": {},
   "source": [
    "# t-SNE Visualization\n",
    "\n",
    "In this visualization, I try to see if the data creates natural clusterings / groupings. However, due to the high dimension of the data, I require a dimensionality reduction method to visualize the data. In this case, I use t-SNE."
   ]
  },
  {
   "cell_type": "code",
   "execution_count": null,
   "metadata": {},
   "outputs": [],
   "source": [
    "import numpy as np\n",
    "import pandas as pd\n",
    "import matplotlib.pyplot as plt\n",
    "from sklearn.manifold import TSNE\n",
    "\n",
    "TRAINSET = '../data/raw/0173eeb640e7-Challenge+Data+Set+-+Campus+Analytics+2020.xlsx'"
   ]
  },
  {
   "cell_type": "code",
   "execution_count": null,
   "metadata": {},
   "outputs": [],
   "source": [
    "# Load in data and visually inspect/verify\n",
    "df = pd.read_excel(TRAINSET)\n",
    "df"
   ]
  },
  {
   "cell_type": "code",
   "execution_count": null,
   "metadata": {},
   "outputs": [],
   "source": [
    "vecs, chars, targets = [], [], []\n",
    "\n",
    "# Extract all data\n",
    "targets = df['y'].to_numpy()\n",
    "chars = df['XC'].to_numpy()\n",
    "feat_df = df.drop(['y', 'XC'], axis=1)\n",
    "vecs = feat_df.to_numpy()"
   ]
  },
  {
   "cell_type": "code",
   "execution_count": null,
   "metadata": {},
   "outputs": [],
   "source": [
    "# Represent feature vectors in lower dimensional space\n",
    "vecs_embedded = TSNE(n_components=2).fit_transform(vecs)"
   ]
  },
  {
   "cell_type": "code",
   "execution_count": null,
   "metadata": {},
   "outputs": [],
   "source": [
    "# Organize data for plotting\n",
    "data = {\n",
    "    0: {\n",
    "        'A': [],\n",
    "        'B': [],\n",
    "        'C': [],\n",
    "        'D': [],\n",
    "        'E': [],\n",
    "    },\n",
    "    1: {\n",
    "        'A': [],\n",
    "        'B': [],\n",
    "        'C': [],\n",
    "        'D': [],\n",
    "        'E': [],\n",
    "    }\n",
    "}\n",
    "\n",
    "for vec_embed, char, target in zip(vecs_embedded, chars, targets):\n",
    "    data[target][char].append(vec_embed)"
   ]
  },
  {
   "cell_type": "markdown",
   "metadata": {},
   "source": [
    "# Plot by target label"
   ]
  },
  {
   "cell_type": "code",
   "execution_count": null,
   "metadata": {},
   "outputs": [],
   "source": [
    "def plot_point(vec, char, target, include_target=True, include_char=True):\n",
    "    if include_target:\n",
    "        if target == 0:\n",
    "            color = '#3498cd'\n",
    "        else:\n",
    "            color = '#f89939'\n",
    "    else:\n",
    "        color = 'b'\n",
    "        \n",
    "    marker = f'${char}$' if include_char else '.'\n",
    "    \n",
    "    plt.scatter(vec[0], vec[1], c=color, marker=marker)"
   ]
  },
  {
   "cell_type": "code",
   "execution_count": null,
   "metadata": {},
   "outputs": [],
   "source": [
    "# Visualize by target label\n",
    "plt.figure(figsize=(16,16))\n",
    "for target, char_dict in data.items():\n",
    "    for char, data_pts_ls in char_dict.items():\n",
    "        for data_pt in data_pts_ls:\n",
    "            plot_point(data_pt, char, target)\n",
    "plt.show()"
   ]
  },
  {
   "cell_type": "markdown",
   "metadata": {},
   "source": [
    "After observing this graph, the data appears to be quite random. To consider the groupings by target label (0 or 1), I focus on the color of the datapoint and ignore the char value.\n",
    "\n",
    "Groupings cannot be distinguished and the spread is wide but points are denser in the center in a form of Gaussian spread. Note: I do not assume that the data takes on a Gaussian distribution. I am simply making an observation of the appearance of the visualization."
   ]
  },
  {
   "cell_type": "markdown",
   "metadata": {},
   "source": [
    "# Plot by Char Feature (Column 'XC' in the data)\n",
    "Although the classification task does not use the char feature column 'XC' as a class, I attempt to see if the char feature 'XC' is strongly correlated with the numerical features. If so, then this feature will also be correlated with the final binary classification label."
   ]
  },
  {
   "cell_type": "code",
   "execution_count": null,
   "metadata": {},
   "outputs": [],
   "source": [
    "COLORS = ['#1f77b4', '#ff7f0e', '#2ca02c', '#d62728', '#9467bd', '#8c564b', '#e377c2', '#7f7f7f', '#bcbd22', '#17becf']\n",
    "def plot_by_char(vec, char, target):\n",
    "    plt.scatter(vec[0], vec[1], c=COLORS[ord(char) - ord('A')], marker=f'${char}$')"
   ]
  },
  {
   "cell_type": "code",
   "execution_count": null,
   "metadata": {
    "scrolled": false
   },
   "outputs": [],
   "source": [
    "# Visualize by char feature\n",
    "plt.figure(figsize=(16,16))\n",
    "for target, char_dict in data.items():\n",
    "    for char, data_pts_ls in char_dict.items():\n",
    "        for data_pt in data_pts_ls:\n",
    "            plot_by_char(data_pt, char, target)\n",
    "plt.show()"
   ]
  },
  {
   "cell_type": "markdown",
   "metadata": {},
   "source": [
    "In this demonstration, I try to see if there are perceptable grouping by the character feature (column 'XC'). However, results are similar to the earlier demonstration by target label: randomness in the form of Gaussian spread. Note: I do not assume that the data takes on a Gaussian distribution. I am simply making an observation of the appearance of the visualization."
   ]
  },
  {
   "cell_type": "markdown",
   "metadata": {},
   "source": [
    "For both demonstrations however, it should be noted that t-SNE uses a t-distribution to compare similarity of points. Therefore, the visualization would naturally appear to have denser centers.\n",
    "\n",
    "However, due to the overlapping of all these data points, I can conclude that this visualization does not allow me to find obvious relationships between data points if one exists."
   ]
  },
  {
   "cell_type": "code",
   "execution_count": null,
   "metadata": {},
   "outputs": [],
   "source": []
  }
 ],
 "metadata": {
  "kernelspec": {
   "display_name": "Python 3",
   "language": "python",
   "name": "python3"
  },
  "language_info": {
   "codemirror_mode": {
    "name": "ipython",
    "version": 3
   },
   "file_extension": ".py",
   "mimetype": "text/x-python",
   "name": "python",
   "nbconvert_exporter": "python",
   "pygments_lexer": "ipython3",
   "version": "3.7.3"
  }
 },
 "nbformat": 4,
 "nbformat_minor": 4
}
